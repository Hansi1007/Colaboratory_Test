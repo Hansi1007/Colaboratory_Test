{
  "nbformat": 4,
  "nbformat_minor": 0,
  "metadata": {
    "colab": {
      "provenance": [],
      "authorship_tag": "ABX9TyP+21dlAWgroKPjkq5dOwmM",
      "include_colab_link": true
    },
    "kernelspec": {
      "name": "python3",
      "display_name": "Python 3"
    },
    "language_info": {
      "name": "python"
    }
  },
  "cells": [
    {
      "cell_type": "markdown",
      "metadata": {
        "id": "view-in-github",
        "colab_type": "text"
      },
      "source": [
        "<a href=\"https://colab.research.google.com/github/Hansi1007/Colaboratory_Test/blob/main/linear_regression.ipynb\" target=\"_parent\"><img src=\"https://colab.research.google.com/assets/colab-badge.svg\" alt=\"Open In Colab\"/></a>"
      ]
    },
    {
      "cell_type": "markdown",
      "source": [
        "# Dependencies"
      ],
      "metadata": {
        "id": "I_6sD5fYnMyf"
      }
    },
    {
      "cell_type": "code",
      "execution_count": null,
      "metadata": {
        "id": "S3WFsPp4m-nz"
      },
      "outputs": [],
      "source": [
        "import numpy as np\n",
        "import matplotlib.pyplot as plt"
      ]
    },
    {
      "cell_type": "code",
      "source": [
        "def make_noisy_data(w = 0.1, b = 0.3 , n=100):\n",
        "  x = np.random.uniform(1, 0.01, n)\n",
        "  noise = np.random.normal(1, 0.01, n)\n",
        "  y = w * x + b  + noise\n",
        "  return x, y"
      ],
      "metadata": {
        "id": "vTw83cYHnPdf"
      },
      "execution_count": null,
      "outputs": []
    },
    {
      "cell_type": "code",
      "source": [
        "x_train, y_train = make_noisy_data()"
      ],
      "metadata": {
        "id": "jMy2KN_konZ3"
      },
      "execution_count": null,
      "outputs": []
    },
    {
      "cell_type": "code",
      "source": [
        "plt.plot(x_train, y_train, 'b.')\n",
        "#plt.plot(x_train, 0.1 * x_train + 0.3, 'r.')\n"
      ],
      "metadata": {
        "colab": {
          "base_uri": "https://localhost:8080/",
          "height": 282
        },
        "id": "DIOQ0KttoqPH",
        "outputId": "c802f037-6a4b-4b52-d201-a8f83c0c60a6"
      },
      "execution_count": null,
      "outputs": [
        {
          "output_type": "execute_result",
          "data": {
            "text/plain": [
              "[<matplotlib.lines.Line2D at 0x7f55f835f710>]"
            ]
          },
          "metadata": {},
          "execution_count": 4
        },
        {
          "output_type": "display_data",
          "data": {
            "text/plain": [
              "<Figure size 432x288 with 1 Axes>"
            ],
            "image/png": "[encoded data removed]"
          },
          "metadata": {
            "needs_background": "light"
          }
        }
      ]
    },
    {
      "cell_type": "code",
      "source": [
        "# Representiert das Model für die lineare Regression also die Gerade y = m*x + b\n",
        "def predict(w, b, x):\n",
        "  return w*x +b"
      ],
      "metadata": {
        "id": "vwQDmpuMqXIv"
      },
      "execution_count": null,
      "outputs": []
    },
    {
      "cell_type": "code",
      "source": [
        "# Fehler des Models\n",
        "def avg_loss(w, b, x, y):\n",
        "  N = len(x)\n",
        "  e = 0\n",
        "  for i in range(0, N):\n",
        "    e += (y[i] - (w*x[i] + b))**2   # summe der Fehler quadrate\n",
        "  return 1/N * e                    # mean"
      ],
      "metadata": {
        "id": "ssl6N_Jzrdpj"
      },
      "execution_count": null,
      "outputs": []
    },
    {
      "cell_type": "code",
      "source": [
        "def update_w_and_b(w, b, x, y, alpha):\n",
        "  # Gradient descent\n",
        "  N = len(x)\n",
        "\n",
        "  d1_dw = 0\n",
        "  d1_db = 0\n",
        "  for i in range(0, N):\n",
        "    # Partielen Ableitungen der Fehlerfunktion nach w und b\n",
        "    d1_db += -2 * ( y[i] - (w*x[i] + b) )\n",
        "    d1_dw += -2 * x[i] * (y[i] - (w*x[i] +b) )\n",
        "\n",
        "  b = b - (1/N) * d1_db * alpha\n",
        "  w = w - (1/N) * d1_dw * alpha\n",
        "  return w, b\n",
        "\n",
        "\n"
      ],
      "metadata": {
        "id": "3BejM7_Hzr5m"
      },
      "execution_count": null,
      "outputs": []
    },
    {
      "cell_type": "code",
      "source": [
        "def train(x, y, epoche=100, alpha=0.01):\n",
        "  w = 0\n",
        "  b = 0\n",
        "  for epoch in range(0,epoche):\n",
        "    w, b = update_w_and_b(w, b , x, y, alpha)\n",
        "\n",
        "    if(epoch % 100 == 0):\n",
        "      print(\"epoche:\", epoch, \" loss:\", avg_loss(w, b, x, y))\n",
        "  return w, b"
      ],
      "metadata": {
        "id": "1Bm5HVeV2Gwn"
      },
      "execution_count": null,
      "outputs": []
    },
    {
      "cell_type": "code",
      "source": [
        "w, b = train(x_train, y_train, epoche = 5000)\n",
        "\n",
        "print(\"w:\", w)\n",
        "print(\"b:\", b)\n",
        "\n",
        "plt.plot(x_train, y_train, 'b.')\n",
        "plt.plot(x_train, predict(w, b, x_train), 'r')\n"
      ],
      "metadata": {
        "colab": {
          "base_uri": "https://localhost:8080/",
          "height": 1000
        },
        "id": "umoNVMb84467",
        "outputId": "60f8c387-4297-4f2c-f8f3-233a233ff5b1"
      },
      "execution_count": null,
      "outputs": [
        {
          "output_type": "stream",
          "name": "stdout",
          "text": [
            "epoche: 0  loss: 1.7271590054038106\n",
            "epoche: 100  loss: 0.022584247113150352\n",
            "epoche: 200  loss: 0.008514196482215934\n",
            "epoche: 300  loss: 0.006758204300469638\n",
            "epoche: 400  loss: 0.00542112700026201\n",
            "epoche: 500  loss: 0.004352622208047443\n",
            "epoche: 600  loss: 0.0034983705133356576\n",
            "epoche: 700  loss: 0.002815407960549091\n",
            "epoche: 800  loss: 0.0022693887168449174\n",
            "epoche: 900  loss: 0.001832853780386708\n",
            "epoche: 1000  loss: 0.0014838500539680146\n",
            "epoche: 1100  loss: 0.001204826335861104\n",
            "epoche: 1200  loss: 0.0009817506797209583\n",
            "epoche: 1300  loss: 0.0008034047358707997\n",
            "epoche: 1400  loss: 0.0006608195867865805\n",
            "epoche: 1500  loss: 0.0005468247052632284\n",
            "epoche: 1600  loss: 0.0004556873526217746\n",
            "epoche: 1700  loss: 0.0003828242824953209\n",
            "epoche: 1800  loss: 0.00032457125193890806\n",
            "epoche: 1900  loss: 0.00027799874870624355\n",
            "epoche: 2000  loss: 0.00024076466772129335\n",
            "epoche: 2100  loss: 0.00021099652792712955\n",
            "epoche: 2200  loss: 0.00018719730626343652\n",
            "epoche: 2300  loss: 0.00016817015321611458\n",
            "epoche: 2400  loss: 0.00015295820392625587\n",
            "epoche: 2500  loss: 0.00014079645799286417\n",
            "epoche: 2600  loss: 0.00013107330803160863\n",
            "epoche: 2700  loss: 0.00012329978228235594\n",
            "epoche: 2800  loss: 0.00011708495449351266\n",
            "epoche: 2900  loss: 0.00011211628446001141\n",
            "epoche: 3000  loss: 0.00010814390055162066\n",
            "epoche: 3100  loss: 0.00010496803380876078\n",
            "epoche: 3200  loss: 0.00010242897167352902\n",
            "epoche: 3300  loss: 0.00010039902613470346\n",
            "epoche: 3400  loss: 9.877611236925545e-05\n",
            "epoche: 3500  loss: 9.747861495382998e-05\n",
            "epoche: 3600  loss: 9.644128347086459e-05\n",
            "epoche: 3700  loss: 9.56119511016767e-05\n",
            "epoche: 3800  loss: 9.49489111863955e-05\n",
            "epoche: 3900  loss: 9.441881981942586e-05\n",
            "epoche: 4000  loss: 9.399501900312466e-05\n",
            "epoche: 4100  loss: 9.365619603205109e-05\n",
            "epoche: 4200  loss: 9.338531168895462e-05\n",
            "epoche: 4300  loss: 9.316874335209671e-05\n",
            "epoche: 4400  loss: 9.299559992123877e-05\n",
            "epoche: 4500  loss: 9.285717411031885e-05\n",
            "epoche: 4600  loss: 9.274650456291526e-05\n",
            "epoche: 4700  loss: 9.26580257695373e-05\n",
            "epoche: 4800  loss: 9.258728818127402e-05\n",
            "epoche: 4900  loss: 9.253073444447095e-05\n",
            "w: 0.09800914811845576\n",
            "b: 1.301581230291201\n"
          ]
        },
        {
          "output_type": "execute_result",
          "data": {
            "text/plain": [
              "[<matplotlib.lines.Line2D at 0x7f55f7e5e990>]"
            ]
          },
          "metadata": {},
          "execution_count": 9
        },
        {
          "output_type": "display_data",
          "data": {
            "text/plain": [
              "<Figure size 432x288 with 1 Axes>"
            ],
            "image/png": "[encoded data removed]"
          },
          "metadata": {
            "needs_background": "light"
          }
        }
      ]
    },
    {
      "cell_type": "code",
      "source": [
        "print(\"w:\", w, \" b: \",  b)"
      ],
      "metadata": {
        "colab": {
          "base_uri": "https://localhost:8080/"
        },
        "id": "QADtaamw5ain",
        "outputId": "70f66aba-04c0-4fda-82df-f12ac5e3860e"
      },
      "execution_count": null,
      "outputs": [
        {
          "output_type": "stream",
          "name": "stdout",
          "text": [
            "w: 0.09800914811845576  b:  1.301581230291201\n"
          ]
        }
      ]
    },
    {
      "cell_type": "code",
      "source": [],
      "metadata": {
        "id": "4CyOwYKy6t7p"
      },
      "execution_count": null,
      "outputs": []
    },
    {
      "cell_type": "markdown",
      "source": [
        "### Lineare Regression und Anwendung in Python\n",
        "https://statisquo.de/2018/03/23/lineare-regression-und-implementierung-in-python/"
      ],
      "metadata": {
        "id": "8uo8rEaqqVaf"
      }
    },
    {
      "cell_type": "code",
      "source": [
        "from scipy.stats import linregress"
      ],
      "metadata": {
        "id": "pgfaroIGqjlc"
      },
      "execution_count": null,
      "outputs": []
    },
    {
      "cell_type": "markdown",
      "source": [
        "**Scipy** hat eine eigene Funktion für **lineare Regressionsanalyse**. Als Argumente weist man ihr jeweils einen Array der x– und der y-Werte zu. Neben Numpy-Arrays akzeptiert die Funktion auch Listen, Tupel und Pandas Series. Als Ergebnis erhalten wir dann die Steigung, den Achsenabschnitt, den Korrelationskoeffizienten nach Pearson (R), den p-Wert und die Standardabweichung. Die einzelnen Werte kann man in dieser Reihenfolge auch gleich beim Aufrufen der Funktion in separate Objekte entpacken. So kann man anschließend besser mit den Kennzahlen arbeiten."
      ],
      "metadata": {
        "id": "vB9E3mw6q8Yc"
      }
    },
    {
      "cell_type": "code",
      "source": [
        "#slope, intercept, rvalue, pvalue and stderr\n",
        "w, b, r, p, std = linregress(x_train, y_train)\n",
        "print(\"Slope/Steigung:\", w)\n",
        "print(\"intercept/Achsenabschnitt\", b)\n",
        "print(r)\n",
        "print(p)\n",
        "print(std)"
      ],
      "metadata": {
        "colab": {
          "base_uri": "https://localhost:8080/"
        },
        "id": "wiLp1jrNrVOG",
        "outputId": "123a6834-f091-4d92-f84c-a88d9ddfe9cc"
      },
      "execution_count": null,
      "outputs": [
        {
          "output_type": "stream",
          "name": "stdout",
          "text": [
            "Slope/Steigung: 0.09639298851487725\n",
            "intercept/Achsenabschnitt 1.3023682256015245\n",
            "0.9344698893364907\n",
            "9.575611083348553e-46\n",
            "0.003709954070128698\n"
          ]
        }
      ]
    },
    {
      "cell_type": "code",
      "source": [
        "predict = lambda slope, itercept, x: slope*x + itercept\n",
        "\n",
        "plt.plot(x_train, y_train, 'b.', label='original data')\n",
        "plt.plot(x_train, predict(w, b, x_train), 'r', label='fitted line')\n",
        "plt.legend()\n",
        "plt.grid(alpha=0.5)\n",
        "# print(predict(w, b, x_train))"
      ],
      "metadata": {
        "colab": {
          "base_uri": "https://localhost:8080/",
          "height": 265
        },
        "id": "4gXHoPE3rkMd",
        "outputId": "cfdddb0c-062a-48a2-926b-4b9b3bb2ad39"
      },
      "execution_count": null,
      "outputs": [
        {
          "output_type": "display_data",
          "data": {
            "text/plain": [
              "<Figure size 432x288 with 1 Axes>"
            ],
            "image/png": "[encoded data removed]"
          },
          "metadata": {
            "needs_background": "light"
          }
        }
      ]
    },
    {
      "cell_type": "markdown",
      "source": [
        "### Prof.Weitz - Lineare Regression\n",
        "https://www.youtube.com/watch?v=sHT33y694N8&list=PLb0zKSynM2PCmp5J5LWM3PcZXBaCoQkXj&index=39"
      ],
      "metadata": {
        "id": "Ccomp0iZ_4tT"
      }
    },
    {
      "cell_type": "code",
      "source": [
        "import numpy as np\n",
        "\n",
        "def lift(arr):\n",
        "  arr = np.array(arr)\n",
        "  return arr.reshape((arr.shape[0], 1))\n"
      ],
      "metadata": {
        "id": "5AzrLjOXuBKU"
      },
      "execution_count": null,
      "outputs": []
    },
    {
      "cell_type": "code",
      "source": [
        "# lift([1,42,10])"
      ],
      "metadata": {
        "id": "kAj5yrSCAn10"
      },
      "execution_count": null,
      "outputs": []
    },
    {
      "cell_type": "code",
      "source": [
        "from sklearn.linear_model import LinearRegression"
      ],
      "metadata": {
        "id": "tqLOIf_eAvbC"
      },
      "execution_count": null,
      "outputs": []
    },
    {
      "cell_type": "code",
      "source": [
        "X = x_train\n",
        "Y = y_train\n",
        "\n",
        "model = LinearRegression()\n",
        "model.fit(lift(X), lift(Y))\n",
        "\n",
        "model.predict([[0.3]])\n"
      ],
      "metadata": {
        "colab": {
          "base_uri": "https://localhost:8080/"
        },
        "id": "QJKe5WNKBe8W",
        "outputId": "dcfa2d58-a687-4560-fa5a-01e21c3371ca"
      },
      "execution_count": null,
      "outputs": [
        {
          "output_type": "execute_result",
          "data": {
            "text/plain": [
              "array([[1.33128612]])"
            ]
          },
          "metadata": {},
          "execution_count": 42
        }
      ]
    },
    {
      "cell_type": "code",
      "source": [
        "plt.figure()\n",
        "plt.scatter(X, Y, c = 'r')\n",
        "\n",
        "x = np.linspace(0,1,10)\n",
        "plt.plot(x, model.predict(lift(x)), c = 'b', label='fitted line')\n",
        "plt.legend()\n",
        "plt.show()"
      ],
      "metadata": {
        "colab": {
          "base_uri": "https://localhost:8080/",
          "height": 265
        },
        "id": "d9BEP078BzSc",
        "outputId": "d2435df6-6340-4869-8e8f-e648235e1f34"
      },
      "execution_count": null,
      "outputs": [
        {
          "output_type": "display_data",
          "data": {
            "text/plain": [
              "<Figure size 432x288 with 1 Axes>"
            ],
            "image/png": "[encoded data removed]"
          },
          "metadata": {
            "needs_background": "light"
          }
        }
      ]
    },
    {
      "cell_type": "code",
      "source": [
        "# logistische Funktion\n",
        "x = np.linspace(6,-6,100)\n",
        "y = 1/ (1 + np.exp(-x))\n",
        "plt.plot(x,y)"
      ],
      "metadata": {
        "id": "hWgAZdDEELnZ",
        "colab": {
          "base_uri": "https://localhost:8080/",
          "height": 282
        },
        "outputId": "8519765d-978e-4bb5-921f-550c7f126548"
      },
      "execution_count": null,
      "outputs": [
        {
          "output_type": "execute_result",
          "data": {
            "text/plain": [
              "[<matplotlib.lines.Line2D at 0x7f55eb4d9ad0>]"
            ]
          },
          "metadata": {},
          "execution_count": 23
        },
        {
          "output_type": "display_data",
          "data": {
            "text/plain": [
              "<Figure size 432x288 with 1 Axes>"
            ],
            "image/png": "[encoded data removed]"
          },
          "metadata": {
            "needs_background": "light"
          }
        }
      ]
    },
    {
      "cell_type": "code",
      "source": [],
      "metadata": {
        "id": "1CDVvIonUZC6"
      },
      "execution_count": null,
      "outputs": []
    }
  ]
}
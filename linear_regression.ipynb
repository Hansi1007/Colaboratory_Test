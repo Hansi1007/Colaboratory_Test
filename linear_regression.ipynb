{
  "nbformat": 4,
  "nbformat_minor": 0,
  "metadata": {
    "colab": {
      "provenance": [],
      "authorship_tag": "ABX9TyNgkggDzdp6UvBCwaGMu3zI",
      "include_colab_link": true
    },
    "kernelspec": {
      "name": "python3",
      "display_name": "Python 3"
    },
    "language_info": {
      "name": "python"
    }
  },
  "cells": [
    {
      "cell_type": "markdown",
      "metadata": {
        "id": "view-in-github",
        "colab_type": "text"
      },
      "source": [
        "<a href=\"https://colab.research.google.com/github/Hansi1007/Colaboratory_Test/blob/main/linear_regression.ipynb\" target=\"_parent\"><img src=\"https://colab.research.google.com/assets/colab-badge.svg\" alt=\"Open In Colab\"/></a>"
      ]
    },
    {
      "cell_type": "markdown",
      "source": [
        "# Dependencies"
      ],
      "metadata": {
        "id": "I_6sD5fYnMyf"
      }
    },
    {
      "cell_type": "code",
      "execution_count": 1,
      "metadata": {
        "id": "S3WFsPp4m-nz"
      },
      "outputs": [],
      "source": [
        "import numpy as np"
      ]
    },
    {
      "cell_type": "code",
      "source": [
        "def make_noisy_data(w = 0.1, b = 0.3 , n=10):\n",
        "  x = np.random.uniform(1, 0.01, n)\n",
        "  noise = np.random.normal(1, 0.01, n)\n"
      ],
      "metadata": {
        "id": "vTw83cYHnPdf"
      },
      "execution_count": 9,
      "outputs": []
    },
    {
      "cell_type": "code",
      "source": [
        "make_noisy_data()"
      ],
      "metadata": {
        "colab": {
          "base_uri": "https://localhost:8080/"
        },
        "id": "jMy2KN_konZ3",
        "outputId": "5dd3f607-40d0-4de6-d60d-e2523108d7ca"
      },
      "execution_count": 8,
      "outputs": [
        {
          "output_type": "stream",
          "name": "stdout",
          "text": [
            "[0.59087432 0.85298118 0.0586264  0.78923575 0.47818305 0.17210652\n",
            " 0.1505082  0.14119114 0.4548627  0.46381616]\n",
            "[0.9963156  1.01020617 0.98985544 0.99736463 1.01302174 1.014205\n",
            " 0.98584092 0.99624624 0.998643   1.01532312]\n"
          ]
        }
      ]
    },
    {
      "cell_type": "code",
      "source": [],
      "metadata": {
        "id": "DIOQ0KttoqPH"
      },
      "execution_count": null,
      "outputs": []
    }
  ]
}